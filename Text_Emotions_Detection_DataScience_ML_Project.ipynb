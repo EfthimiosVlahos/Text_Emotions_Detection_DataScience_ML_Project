{
 "cells": [
  {
   "cell_type": "markdown",
   "metadata": {},
   "source": [
    "<img src=\"data:image/jpeg;base64,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\" width=300 />\n"
   ]
  },
  {
   "cell_type": "markdown",
   "metadata": {},
   "source": [
    "A human can express his emotions in any form, such as face, gestures, speech and text. The detection of text emotions is a content-based classification problem. In this notebook, I will explore the problem of text emotions detection with machine learning using Python.In machine learning, the detection of textual emotions is the problem of content-based classification, which is the task of natural language processing. Detecting a person’s emotions is a difficult task, but detecting the emotions using text written by a person is even more difficult as a human can express his emotions in any form.Usually, emotions are expressed as joy, sadness, anger, surprise, hate, fear, etc. Recognizing this type of emotion from a text written by a person plays an important role in applications such as chatbots, customer support forum, customer reviews etc."
   ]
  },
  {
   "cell_type": "code",
   "execution_count": 1,
   "metadata": {},
   "outputs": [
    {
     "name": "stdout",
     "output_type": "stream",
     "text": [
      "Number of instances: 7480\n"
     ]
    }
   ],
   "source": [
    "#importing the necessary Python libraries and the dataset\n",
    "\n",
    "import re \n",
    "from collections import Counter\n",
    "from sklearn.model_selection import train_test_split\n",
    "from sklearn.metrics import accuracy_score\n",
    "from sklearn.svm import SVC\n",
    "from sklearn.svm import LinearSVC\n",
    "from sklearn.ensemble import RandomForestClassifier\n",
    "from sklearn.tree import DecisionTreeClassifier\n",
    "\n",
    "def read_data(file):\n",
    "    data = []\n",
    "    with open(file, 'r')as f:\n",
    "        for line in f:\n",
    "            line = line.strip()\n",
    "            label = ' '.join(line[1:line.find(\"]\")].strip().split())\n",
    "            text = line[line.find(\"]\")+1:].strip()\n",
    "            data.append([label, text])\n",
    "    return data\n",
    "\n",
    "file = 'text.txt'\n",
    "data = read_data(file)\n",
    "print(\"Number of instances: {}\".format(len(data)))"
   ]
  },
  {
   "cell_type": "code",
   "execution_count": 2,
   "metadata": {},
   "outputs": [],
   "source": [
    "#Here, I created two Python functions for tokenization and generating the features of an input sentence:\n",
    "def ngram(token, n): \n",
    "    output = []\n",
    "    for i in range(n-1, len(token)): \n",
    "        ngram = ' '.join(token[i-n+1:i+1])\n",
    "        output.append(ngram) \n",
    "    return output\n",
    "\n",
    "def create_feature(text, nrange=(1, 1)):\n",
    "    text_features = [] \n",
    "    text = text.lower() \n",
    "    text_alphanum = re.sub('[^a-z0-9#]', ' ', text)\n",
    "    for n in range(nrange[0], nrange[1]+1): \n",
    "        text_features += ngram(text_alphanum.split(), n)    \n",
    "    text_punc = re.sub('[a-z0-9]', ' ', text)\n",
    "    text_features += ngram(text_punc.split(), 1)\n",
    "    return Counter(text_features)"
   ]
  },
  {
   "cell_type": "code",
   "execution_count": 3,
   "metadata": {},
   "outputs": [],
   "source": [
    "#Here, I created a Python function to store the labels. Our labels will be based on emotions such as Joy, Fear, Anger, and so on:\n",
    "def convert_label(item, name): \n",
    "    items = list(map(float, item.split()))\n",
    "    label = \"\"\n",
    "    for idx in range(len(items)): \n",
    "        if items[idx] == 1: \n",
    "            label += name[idx] + \" \"\n",
    "    \n",
    "    return label.strip()\n",
    "\n",
    "emotions = [\"joy\", 'fear', \"anger\", \"sadness\", \"disgust\", \"shame\", \"guilt\"]\n",
    "\n",
    "X_all = []\n",
    "y_all = []\n",
    "for label, text in data:\n",
    "    y_all.append(convert_label(label, emotions))\n",
    "    X_all.append(create_feature(text, nrange=(1, 4)))"
   ]
  },
  {
   "cell_type": "code",
   "execution_count": 4,
   "metadata": {},
   "outputs": [],
   "source": [
    "#Split data into traininga nd testing sets\n",
    "X_train, X_test, y_train, y_test = train_test_split(X_all, y_all, test_size = 0.2, random_state = 123)\n",
    "\n",
    "def train_test(clf, X_train, X_test, y_train, y_test):\n",
    "    clf.fit(X_train, y_train)\n",
    "    train_acc = accuracy_score(y_train, clf.predict(X_train))\n",
    "    test_acc = accuracy_score(y_test, clf.predict(X_test))\n",
    "    return train_acc, test_acc\n",
    "\n",
    "from sklearn.feature_extraction import DictVectorizer\n",
    "vectorizer = DictVectorizer(sparse = True)\n",
    "X_train = vectorizer.fit_transform(X_train)\n",
    "X_test = vectorizer.transform(X_test)"
   ]
  },
  {
   "cell_type": "code",
   "execution_count": 5,
   "metadata": {},
   "outputs": [
    {
     "name": "stdout",
     "output_type": "stream",
     "text": [
      "| Classifier                | Training Accuracy | Test Accuracy |\n",
      "| ------------------------- | ----------------- | ------------- |\n"
     ]
    },
    {
     "name": "stderr",
     "output_type": "stream",
     "text": [
      "/Users/Vlahonator/anaconda3/lib/python3.7/site-packages/sklearn/svm/base.py:193: FutureWarning: The default value of gamma will change from 'auto' to 'scale' in version 0.22 to account better for unscaled features. Set gamma explicitly to 'auto' or 'scale' to avoid this warning.\n",
      "  \"avoid this warning.\", FutureWarning)\n"
     ]
    },
    {
     "name": "stdout",
     "output_type": "stream",
     "text": [
      "| SVC                       |         0.1458890 |     0.1410428 |\n"
     ]
    },
    {
     "name": "stderr",
     "output_type": "stream",
     "text": [
      "/Users/Vlahonator/anaconda3/lib/python3.7/site-packages/sklearn/svm/base.py:929: ConvergenceWarning: Liblinear failed to converge, increase the number of iterations.\n",
      "  \"the number of iterations.\", ConvergenceWarning)\n",
      "/Users/Vlahonator/anaconda3/lib/python3.7/site-packages/sklearn/ensemble/forest.py:245: FutureWarning: The default value of n_estimators will change from 10 in version 0.20 to 100 in 0.22.\n",
      "  \"10 in version 0.20 to 100 in 0.22.\", FutureWarning)\n"
     ]
    },
    {
     "name": "stdout",
     "output_type": "stream",
     "text": [
      "| LinearSVC                 |         0.9988302 |     0.5768717 |\n",
      "| RandomForestClassifier    |         0.9911430 |     0.4304813 |\n",
      "| DecisionTreeClassifier    |         0.9988302 |     0.4585561 |\n"
     ]
    }
   ],
   "source": [
    "#Here I’m going to train4 machine learning models and then choose the model that works best on the training and testing sets:\n",
    "svc = SVC()\n",
    "lsvc = LinearSVC(random_state=123)\n",
    "rforest = RandomForestClassifier(random_state=123)\n",
    "dtree = DecisionTreeClassifier()\n",
    "\n",
    "clifs = [svc, lsvc, rforest, dtree]\n",
    "\n",
    "# train and test them \n",
    "print(\"| {:25} | {} | {} |\".format(\"Classifier\", \"Training Accuracy\", \"Test Accuracy\"))\n",
    "print(\"| {} | {} | {} |\".format(\"-\"*25, \"-\"*17, \"-\"*13))\n",
    "for clf in clifs: \n",
    "    clf_name = clf.__class__.__name__\n",
    "    train_acc, test_acc = train_test(clf, X_train, X_test, y_train, y_test)\n",
    "    print(\"| {:25} | {:17.7f} | {:13.7f} |\".format(clf_name, train_acc, test_acc))"
   ]
  },
  {
   "cell_type": "code",
   "execution_count": 6,
   "metadata": {},
   "outputs": [
    {
     "name": "stdout",
     "output_type": "stream",
     "text": [
      "joy       (1. 0. 0. 0. 0. 0. 0.)  1084\n",
      "anger     (0. 0. 1. 0. 0. 0. 0.)  1080\n",
      "sadness   (0. 0. 0. 1. 0. 0. 0.)  1079\n",
      "fear      (0. 1. 0. 0. 0. 0. 0.)  1078\n",
      "disgust   (0. 0. 0. 0. 1. 0. 0.)  1057\n",
      "guilt     (0. 0. 0. 0. 0. 0. 1.)  1057\n",
      "shame     (0. 0. 0. 0. 0. 1. 0.)  1045\n"
     ]
    }
   ],
   "source": [
    "#Here, I’m going to assign an emoji to each label that is emotions in this problem, \n",
    "#then I’ll write 4 input sentences. Then I’ll use our trained machine learning model to take a look \n",
    "#at the emotions of our input sentences:\n",
    "\n",
    "l = [\"joy\", 'fear', \"anger\", \"sadness\", \"disgust\", \"shame\", \"guilt\"]\n",
    "l.sort()\n",
    "label_freq = {}\n",
    "for label, _ in data: \n",
    "    label_freq[label] = label_freq.get(label, 0) + 1\n",
    "\n",
    "# print the labels and their counts in sorted order \n",
    "for l in sorted(label_freq, key=label_freq.get, reverse=True):\n",
    "    print(\"{:10}({})  {}\".format(convert_label(l, emotions), l, label_freq[l]))"
   ]
  },
  {
   "cell_type": "code",
   "execution_count": 7,
   "metadata": {},
   "outputs": [
    {
     "name": "stdout",
     "output_type": "stream",
     "text": [
      "This looks so impressive 😳\n",
      "I have a fear of dogs 😱\n",
      "My dog died yesterday 😢\n",
      "I don't love you anymore..! 😂\n"
     ]
    }
   ],
   "source": [
    "\n",
    "emoji_dict = {\"joy\":\"😂\", \"fear\":\"😱\", \"anger\":\"😠\", \"sadness\":\"😢\", \"disgust\":\"😒\", \"shame\":\"😳\", \"guilt\":\"😳\"}\n",
    "t1 = \"This looks so impressive\"\n",
    "t2 = \"I have a fear of dogs\"\n",
    "t3 = \"My dog died yesterday\"\n",
    "t4 = \"I don't love you anymore..!\"\n",
    "\n",
    "texts = [t1, t2, t3, t4]\n",
    "for text in texts: \n",
    "    features = create_feature(text, nrange=(1, 4))\n",
    "    features = vectorizer.transform(features)\n",
    "    prediction = clf.predict(features)[0]\n",
    "    print( text,emoji_dict[prediction])"
   ]
  },
  {
   "cell_type": "markdown",
   "metadata": {},
   "source": [
    "The generated output is superb. This is how we can use machine learning for the task of detecting emotions from the text. This is an important task of human-machine interactions for anyone looking for a future in natural language processing. "
   ]
  },
  {
   "cell_type": "code",
   "execution_count": null,
   "metadata": {},
   "outputs": [],
   "source": []
  }
 ],
 "metadata": {
  "kernelspec": {
   "display_name": "Python 3 (ipykernel)",
   "language": "python",
   "name": "python3"
  },
  "language_info": {
   "codemirror_mode": {
    "name": "ipython",
    "version": 3
   },
   "file_extension": ".py",
   "mimetype": "text/x-python",
   "name": "python",
   "nbconvert_exporter": "python",
   "pygments_lexer": "ipython3",
   "version": "3.9.12"
  }
 },
 "nbformat": 4,
 "nbformat_minor": 2
}
